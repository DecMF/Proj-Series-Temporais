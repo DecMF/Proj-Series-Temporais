{
 "cells": [
  {
   "cell_type": "markdown",
   "metadata": {},
   "source": [
    "## Atividade Series Temporais - Método dos Momentos\n",
    "##"
   ]
  },
  {
   "cell_type": "code",
   "execution_count": 1,
   "metadata": {},
   "outputs": [],
   "source": [
    "import numpy as np\n",
    "from scipy.linalg import toeplitz, inv\n",
    "from scipy.stats import norm\n",
    "\n",
    "def autocovariances(x, p):\n",
    "    x = x - np.mean(x)\n",
    "    n = len(x)\n",
    "    return np.array([np.dot(x[:n-k], x[k:]) / n for k in range(p+1)])\n",
    "\n",
    "def estimate_phi_moments(x, p):\n",
    "    gamma = autocovariances(x, p)\n",
    "    R = toeplitz(gamma[:p])\n",
    "    r = gamma[1:p+1]\n",
    "    phi_hat = np.linalg.solve(R, r)\n",
    "    gamma0 = gamma[0]\n",
    "    sigma2_eps = gamma0 * (1 - np.dot(phi_hat, r))\n",
    "    return phi_hat, sigma2_eps, R, gamma0\n"
   ]
  },
  {
   "cell_type": "code",
   "execution_count": 2,
   "metadata": {},
   "outputs": [],
   "source": [
    "def confidence_intervals(phi_hat, sigma2_eps, R, n, alpha=0.05):\n",
    "    inv_R = inv(R)\n",
    "    cov_phi = sigma2_eps * inv_R / n\n",
    "    z = norm.ppf(1 - alpha / 2)\n",
    "    lower = phi_hat - z * np.sqrt(np.diag(cov_phi))\n",
    "    upper = phi_hat + z * np.sqrt(np.diag(cov_phi))\n",
    "    return cov_phi, lower, upper\n"
   ]
  },
  {
   "cell_type": "code",
   "execution_count": 3,
   "metadata": {},
   "outputs": [],
   "source": [
    "def confidence_intervals(phi_hat, sigma2_eps, R, n, alpha=0.05):\n",
    "    inv_R = inv(R)\n",
    "    cov_phi = sigma2_eps * inv_R / n\n",
    "    z = norm.ppf(1 - alpha / 2)\n",
    "    lower = phi_hat - z * np.sqrt(np.diag(cov_phi))\n",
    "    upper = phi_hat + z * np.sqrt(np.diag(cov_phi))\n",
    "    return cov_phi, lower, upper\n"
   ]
  },
  {
   "cell_type": "code",
   "execution_count": 4,
   "metadata": {},
   "outputs": [
    {
     "name": "stdout",
     "output_type": "stream",
     "text": [
      "phi_hat: [ 1.43545611 -0.7211704 ]\n",
      "sigma2_eps: 1.232264013769364\n",
      "IC phi1: [1.3223077615434702, 1.54860445876634]\n",
      "IC phi2: [-0.8343187444806257, -0.608022047257756]\n"
     ]
    }
   ],
   "source": [
    "# Dados fornecidos no slide\n",
    "n = 144\n",
    "gamma0 = 8.434\n",
    "rho1 = 0.834\n",
    "rho2 = 0.476\n",
    "\n",
    "# Matriz Yule-Walker\n",
    "R = np.array([[1, rho1], [rho1, 1]])\n",
    "r = np.array([rho1, rho2])\n",
    "phi_hat = np.linalg.solve(R, r)\n",
    "\n",
    "# Estimativa da variância do erro\n",
    "sigma2_eps_hat = gamma0 * (1 - np.dot(phi_hat, r))\n",
    "\n",
    "# Matriz de autocovariâncias estimada\n",
    "Gamma_hat = gamma0 * R\n",
    "cov_phi = (1/n) * sigma2_eps_hat * np.linalg.inv(Gamma_hat)\n",
    "\n",
    "# Intervalos de confiança\n",
    "z = norm.ppf(0.975)\n",
    "ic_phi1 = [phi_hat[0] - z * np.sqrt(cov_phi[0,0]), phi_hat[0] + z * np.sqrt(cov_phi[0,0])]\n",
    "ic_phi2 = [phi_hat[1] - z * np.sqrt(cov_phi[1,1]), phi_hat[1] + z * np.sqrt(cov_phi[1,1])]\n",
    "\n",
    "# Exibir\n",
    "print(f\"phi_hat: {phi_hat}\")\n",
    "print(f\"sigma2_eps: {sigma2_eps_hat}\")\n",
    "print(f\"IC phi1: {ic_phi1}\")\n",
    "print(f\"IC phi2: {ic_phi2}\")\n"
   ]
  },
  {
   "cell_type": "code",
   "execution_count": 5,
   "metadata": {},
   "outputs": [],
   "source": [
    "# phi_hat: [ 1.4354561  -0.7211704 ]\n",
    "# sigma2_eps: 1.232264...\n",
    "# IC phi1: [1.3223..., 1.5486...]\n",
    "# IC phi2: [-0.8343..., -0.6080...]\n"
   ]
  },
  {
   "cell_type": "code",
   "execution_count": 6,
   "metadata": {},
   "outputs": [],
   "source": [
    "def ar_moments_full(x, p, alpha=0.05):\n",
    "    n = len(x)\n",
    "    phi_hat, sigma2_eps, R, gamma0 = estimate_phi_moments(x, p)\n",
    "    cov_phi, ci_lower, ci_upper = confidence_intervals(phi_hat, sigma2_eps, R, n, alpha)\n",
    "    return {\n",
    "        'phi_hat': phi_hat,\n",
    "        'sigma2_eps': sigma2_eps,\n",
    "        'cov_phi': cov_phi,\n",
    "        'ci_lower': ci_lower,\n",
    "        'ci_upper': ci_upper\n",
    "    }\n"
   ]
  },
  {
   "cell_type": "code",
   "execution_count": 7,
   "metadata": {},
   "outputs": [],
   "source": [
    "def simulate_ar(p, phi, n=200, burn_in=100, sigma=1, c=0):\n",
    "    \"\"\"\n",
    "    Simula uma série AR(p) com coeficientes phi, ruído normal e tamanho n.\n",
    "    \"\"\"\n",
    "    total_n = n + burn_in\n",
    "    x = np.zeros(total_n)\n",
    "    noise = np.random.normal(0, sigma, total_n)\n",
    "    \n",
    "    for t in range(p, total_n):\n",
    "        x[t] = c + np.dot(phi, x[t-p:t][::-1]) + noise[t]\n",
    "    \n",
    "    return x[burn_in:]  # Remove burn-in\n"
   ]
  },
  {
   "cell_type": "code",
   "execution_count": 8,
   "metadata": {},
   "outputs": [
    {
     "name": "stdout",
     "output_type": "stream",
     "text": [
      "Parâmetros verdadeiros: [0.6, -0.3, 0.2]\n",
      "Estimativas (MM): [ 0.51686872 -0.23068021  0.13690508]\n",
      "Variância do erro: 0.8886698395784248\n",
      "Intervalos de confiança (95%):\n",
      "phi_1: [0.4080, 0.6257]\n",
      "phi_2: [-0.3508, -0.1105]\n",
      "phi_3: [0.0280, 0.2458]\n"
     ]
    }
   ],
   "source": [
    "import matplotlib.pyplot as plt\n",
    "\n",
    "np.random.seed(42)\n",
    "phi_true = [0.6, -0.3, 0.2]  # AR(3)\n",
    "n_obs = 300\n",
    "\n",
    "serie = simulate_ar(p=3, phi=phi_true, n=n_obs)\n",
    "\n",
    "resultado = ar_moments_full(serie, p=3)\n",
    "\n",
    "print(\"Parâmetros verdadeiros:\", phi_true)\n",
    "print(\"Estimativas (MM):\", resultado['phi_hat'])\n",
    "print(\"Variância do erro:\", resultado['sigma2_eps'])\n",
    "print(\"Intervalos de confiança (95%):\")\n",
    "for i, (l, u) in enumerate(zip(resultado['ci_lower'], resultado['ci_upper']), start=1):\n",
    "    print(f\"phi_{i}: [{l:.4f}, {u:.4f}]\")\n"
   ]
  },
  {
   "cell_type": "code",
   "execution_count": 9,
   "metadata": {},
   "outputs": [
    {
     "data": {
      "image/png": "[encoded data removed]",
      "text/plain": [
       "<Figure size 640x480 with 1 Axes>"
      ]
     },
     "metadata": {},
     "output_type": "display_data"
    }
   ],
   "source": [
    "plt.errorbar(\n",
    "    x=np.arange(1, 4),\n",
    "    y=resultado['phi_hat'],\n",
    "    yerr=1.96 * np.sqrt(np.diag(resultado['cov_phi'])),\n",
    "    fmt='o',\n",
    "    label='Estimativa ± IC',\n",
    "    capsize=5\n",
    ")\n",
    "plt.axhline(0, color='gray', linestyle='--')\n",
    "plt.xticks(np.arange(1, 4), [f\"$\\\\phi_{i}$\" for i in range(1, 4)])\n",
    "plt.title(\"Estimativas com ICs 95% para $\\phi_i$\")\n",
    "plt.ylabel(\"Valor estimado\")\n",
    "plt.grid(True)\n",
    "plt.legend()\n",
    "plt.show()\n"
   ]
  },
  {
   "cell_type": "markdown",
   "metadata": {},
   "source": [
    "## Vies e MSE"
   ]
  },
  {
   "cell_type": "code",
   "execution_count": 10,
   "metadata": {},
   "outputs": [],
   "source": [
    "def estudo_simulacao(phi_true, p, n_obs=300, n_sim=1000):\n",
    "    phi_estimates = []\n",
    "    \n",
    "    for _ in range(n_sim):\n",
    "        serie = simulate_ar(p=p, phi=phi_true, n=n_obs)\n",
    "        resultado = ar_moments_full(serie, p=p)\n",
    "        phi_estimates.append(resultado['phi_hat'])\n",
    "    \n",
    "    phi_estimates = np.array(phi_estimates)\n",
    "    \n",
    "    # Cálculo de viés e RMSE\n",
    "    bias = np.mean(phi_estimates, axis=0) - phi_true\n",
    "    rmse = np.sqrt(np.mean((phi_estimates - phi_true)**2, axis=0))\n",
    "    \n",
    "    return bias, rmse\n"
   ]
  },
  {
   "cell_type": "code",
   "execution_count": 11,
   "metadata": {},
   "outputs": [
    {
     "name": "stdout",
     "output_type": "stream",
     "text": [
      "Viés: [-0.01123325  0.00194678 -0.00795197]\n",
      "RMSE: [0.06057073 0.0660446  0.05827654]\n"
     ]
    }
   ],
   "source": [
    "phi_true = [0.6, -0.3, 0.2]\n",
    "bias, rmse = estudo_simulacao(phi_true, p=3)\n",
    "\n",
    "print(\"Viés:\", bias)\n",
    "print(\"RMSE:\", rmse)\n"
   ]
  },
  {
   "cell_type": "code",
   "execution_count": null,
   "metadata": {},
   "outputs": [],
   "source": [
    "phi_hat ≈ [0.57, -0.28, 0.18]\n",
    "sigma² ≈ valor positivo\n",
    "ICs cobrindo os verdadeiros φs\n"
   ]
  }
 ],
 "metadata": {
  "kernelspec": {
   "display_name": "Python 3",
   "language": "python",
   "name": "python3"
  },
  "language_info": {
   "codemirror_mode": {
    "name": "ipython",
    "version": 3
   },
   "file_extension": ".py",
   "mimetype": "text/x-python",
   "name": "python",
   "nbconvert_exporter": "python",
   "pygments_lexer": "ipython3",
   "version": "3.10.12"
  }
 },
 "nbformat": 4,
 "nbformat_minor": 2
}
